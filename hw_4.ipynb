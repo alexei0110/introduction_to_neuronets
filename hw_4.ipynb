{
 "cells": [
  {
   "cell_type": "markdown",
   "metadata": {
    "id": "1ypT4o7L7TWy"
   },
   "source": [
    "# Введение в искусственные нейронные сети\n",
    "# Урок 4. Сверточные нейронные сети"
   ]
  },
  {
   "cell_type": "code",
   "execution_count": 1,
   "metadata": {
    "id": "ExuYu54x7zd0"
   },
   "outputs": [],
   "source": [
    "import numpy as np\n",
    "import pandas as pd\n",
    "import tensorflow as tf\n",
    "import matplotlib.pyplot as plt\n",
    "\n",
    "from tensorflow.keras.models import Sequential, Model\n",
    "from tensorflow.keras.layers import Conv2D, Input\n",
    "from tensorflow.keras.layers import GlobalMaxPooling2D, MaxPooling2D, AveragePooling2D, GlobalAveragePooling2D\n",
    "from tensorflow.keras.datasets import cifar10\n",
    "from tensorflow.keras.preprocessing.image import ImageDataGenerator\n",
    "from tensorflow.keras.utils import to_categorical\n",
    "from tensorflow.keras.layers import Dense, Dropout, Activation, Flatten\n",
    "\n",
    "import os"
   ]
  },
  {
   "cell_type": "code",
   "execution_count": 2,
   "metadata": {
    "id": "FKhm3ZTP73fR"
   },
   "outputs": [],
   "source": [
    "tf.random.set_seed(1)"
   ]
  },
  {
   "cell_type": "code",
   "execution_count": 3,
   "metadata": {
    "colab": {
     "base_uri": "https://localhost:8080/"
    },
    "id": "SwM_BwzM8CtY",
    "outputId": "054b8ec2-98c9-42ee-b3c0-fad3f5ddec70"
   },
   "outputs": [
    {
     "data": {
      "text/plain": [
       "[PhysicalDevice(name='/physical_device:GPU:0', device_type='GPU')]"
      ]
     },
     "execution_count": 3,
     "metadata": {},
     "output_type": "execute_result"
    }
   ],
   "source": [
    "tf.config.list_physical_devices('GPU')"
   ]
  },
  {
   "cell_type": "code",
   "execution_count": 4,
   "metadata": {
    "id": "UBilWOI68FGd"
   },
   "outputs": [],
   "source": [
    "results = pd.DataFrame() # сводная таблица результатов\n",
    "step = [] # шаг\n",
    "desc = [] # описание\n",
    "train_acc = [] # результат на трейне\n",
    "test_acc = [] # результат на тесте"
   ]
  },
  {
   "cell_type": "code",
   "execution_count": 5,
   "metadata": {
    "colab": {
     "base_uri": "https://localhost:8080/"
    },
    "id": "QPy6DQ4r8Rev",
    "outputId": "a86d7a48-f959-4e29-c982-ae832aa8aa84"
   },
   "outputs": [
    {
     "name": "stdout",
     "output_type": "stream",
     "text": [
      "Downloading data from https://www.cs.toronto.edu/~kriz/cifar-10-python.tar.gz\n",
      "170498071/170498071 [==============================] - 13s 0us/step\n",
      "X_train shape: (50000, 32, 32, 3)\n",
      "50000 тренировочные примеры\n",
      "10000 тестовые примеры\n"
     ]
    }
   ],
   "source": [
    "# установка параметров нейросети\n",
    "batch_size = 64\n",
    "num_classes = 10\n",
    "epochs = 10\n",
    "\n",
    "# разделение тренировочной и тестовой выборки\n",
    "(X_train, y_train), (X_test, y_test) = cifar10.load_data()\n",
    "print('X_train shape:', X_train.shape)\n",
    "print(X_train.shape[0], 'тренировочные примеры')\n",
    "print(X_test.shape[0], 'тестовые примеры')\n",
    "\n",
    "# преобразование матрицы чисел 0-9 в бинарную матрицу чисел 0-1\n",
    "y_train = to_categorical(y_train, num_classes)\n",
    "y_test = to_categorical(y_test, num_classes)\n",
    "\n",
    "\n",
    "X_train = X_train / 255.0\n",
    "X_test = X_test / 255.0"
   ]
  },
  {
   "cell_type": "code",
   "execution_count": 6,
   "metadata": {
    "id": "-CprrxTF8cIX"
   },
   "outputs": [],
   "source": [
    "classes = ['самолет', 'автомобиль', 'птица', 'кот', 'олень', 'собака', 'лягушка', 'лошадь', 'корабль', 'грузовик']"
   ]
  },
  {
   "cell_type": "code",
   "execution_count": 9,
   "metadata": {
    "colab": {
     "base_uri": "https://localhost:8080/",
     "height": 281
    },
    "id": "Ll3KQkvQ8kCF",
    "outputId": "45970562-d505-4293-e993-4e4af3cd32a8"
   },
   "outputs": [
    {
     "data": {
      "image/png": "[encoded data removed]",
      "text/plain": [
       "<Figure size 432x288 with 1 Axes>"
      ]
     },
     "metadata": {
      "needs_background": "light"
     },
     "output_type": "display_data"
    }
   ],
   "source": [
    "N = 9\n",
    "\n",
    "plt.imshow(X_test[N])\n",
    "plt.title(classes[np.argmax(y_test[N, :])])\n",
    "plt.show()"
   ]
  },
  {
   "cell_type": "code",
   "execution_count": 10,
   "metadata": {
    "colab": {
     "base_uri": "https://localhost:8080/"
    },
    "id": "zCy2ziro9Eh8",
    "outputId": "25737515-5afd-406c-ce16-dc84fe36a9d3"
   },
   "outputs": [
    {
     "name": "stdout",
     "output_type": "stream",
     "text": [
      "Model: \"sequential\"\n",
      "_________________________________________________________________\n",
      " Layer (type)                Output Shape              Param #   \n",
      "=================================================================\n",
      " conv2d (Conv2D)             (None, 32, 32, 32)        896       \n",
      "                                                                 \n",
      " activation (Activation)     (None, 32, 32, 32)        0         \n",
      "                                                                 \n",
      " conv2d_1 (Conv2D)           (None, 30, 30, 32)        9248      \n",
      "                                                                 \n",
      " activation_1 (Activation)   (None, 30, 30, 32)        0         \n",
      "                                                                 \n",
      " max_pooling2d (MaxPooling2D  (None, 15, 15, 32)       0         \n",
      " )                                                               \n",
      "                                                                 \n",
      " dropout (Dropout)           (None, 15, 15, 32)        0         \n",
      "                                                                 \n",
      " conv2d_2 (Conv2D)           (None, 15, 15, 64)        18496     \n",
      "                                                                 \n",
      " activation_2 (Activation)   (None, 15, 15, 64)        0         \n",
      "                                                                 \n",
      " conv2d_3 (Conv2D)           (None, 13, 13, 64)        36928     \n",
      "                                                                 \n",
      " activation_3 (Activation)   (None, 13, 13, 64)        0         \n",
      "                                                                 \n",
      " max_pooling2d_1 (MaxPooling  (None, 6, 6, 64)         0         \n",
      " 2D)                                                             \n",
      "                                                                 \n",
      " dropout_1 (Dropout)         (None, 6, 6, 64)          0         \n",
      "                                                                 \n",
      " global_average_pooling2d (G  (None, 64)               0         \n",
      " lobalAveragePooling2D)                                          \n",
      "                                                                 \n",
      " dense (Dense)               (None, 64)                4160      \n",
      "                                                                 \n",
      " activation_4 (Activation)   (None, 64)                0         \n",
      "                                                                 \n",
      " dense_1 (Dense)             (None, 32)                2080      \n",
      "                                                                 \n",
      " activation_5 (Activation)   (None, 32)                0         \n",
      "                                                                 \n",
      " dropout_2 (Dropout)         (None, 32)                0         \n",
      "                                                                 \n",
      " dense_2 (Dense)             (None, 10)                330       \n",
      "                                                                 \n",
      " activation_6 (Activation)   (None, 10)                0         \n",
      "                                                                 \n",
      "=================================================================\n",
      "Total params: 72,138\n",
      "Trainable params: 72,138\n",
      "Non-trainable params: 0\n",
      "_________________________________________________________________\n"
     ]
    }
   ],
   "source": [
    "# конфигурирование слоев нейросети\n",
    "model_1 = Sequential()\n",
    "\n",
    "# слои нейросети отвественные за свертку и max-pooling\n",
    "model_1.add(Conv2D(32, (3, 3), padding='same', input_shape=X_train.shape[1:]))\n",
    "model_1.add(Activation('relu'))\n",
    "model_1.add(Conv2D(32, (3, 3)))\n",
    "model_1.add(Activation('relu'))\n",
    "model_1.add(MaxPooling2D(pool_size=(2, 2)))\n",
    "model_1.add(Dropout(0.25))\n",
    "\n",
    "model_1.add(Conv2D(64, (3, 3), padding='same'))\n",
    "model_1.add(Activation('relu'))\n",
    "model_1.add(Conv2D(64, (3, 3)))\n",
    "model_1.add(Activation('relu'))\n",
    "model_1.add(MaxPooling2D(pool_size=(2, 2)))\n",
    "model_1.add(Dropout(0.25))\n",
    "\n",
    "# полносвязные слои нейронной сети\n",
    "model_1.add(GlobalAveragePooling2D())\n",
    "model_1.add(Dense(64))\n",
    "model_1.add(Activation('relu'))\n",
    "model_1.add(Dense(32))\n",
    "model_1.add(Activation('relu'))\n",
    "model_1.add(Dropout(0.5))\n",
    "model_1.add(Dense(num_classes))\n",
    "model_1.add(Activation('softmax'))\n",
    "\n",
    "model_1.summary()\n",
    "# компиляция модели\n",
    "model_1.compile(loss='categorical_crossentropy',\n",
    "                optimizer='Adam',\n",
    "                metrics=['accuracy'])"
   ]
  },
  {
   "cell_type": "code",
   "execution_count": 11,
   "metadata": {
    "colab": {
     "base_uri": "https://localhost:8080/"
    },
    "id": "ssnYehWM9MLD",
    "outputId": "715fc27a-1a61-48ef-89d9-17f38d1d6233"
   },
   "outputs": [
    {
     "name": "stdout",
     "output_type": "stream",
     "text": [
      "Epoch 1/10\n",
      "782/782 [==============================] - 14s 8ms/step - loss: 1.9711 - accuracy: 0.2274 - val_loss: 1.7531 - val_accuracy: 0.3296\n",
      "Epoch 2/10\n",
      "782/782 [==============================] - 7s 8ms/step - loss: 1.7063 - accuracy: 0.3393 - val_loss: 1.4979 - val_accuracy: 0.4339\n",
      "Epoch 3/10\n",
      "782/782 [==============================] - 6s 7ms/step - loss: 1.5625 - accuracy: 0.4143 - val_loss: 1.3688 - val_accuracy: 0.4922\n",
      "Epoch 4/10\n",
      "782/782 [==============================] - 6s 7ms/step - loss: 1.4471 - accuracy: 0.4673 - val_loss: 1.2636 - val_accuracy: 0.5358\n",
      "Epoch 5/10\n",
      "782/782 [==============================] - 6s 7ms/step - loss: 1.3732 - accuracy: 0.5014 - val_loss: 1.1736 - val_accuracy: 0.5725\n",
      "Epoch 6/10\n",
      "782/782 [==============================] - 6s 8ms/step - loss: 1.3019 - accuracy: 0.5314 - val_loss: 1.1701 - val_accuracy: 0.5809\n",
      "Epoch 7/10\n",
      "782/782 [==============================] - 6s 7ms/step - loss: 1.2539 - accuracy: 0.5507 - val_loss: 1.0610 - val_accuracy: 0.6225\n",
      "Epoch 8/10\n",
      "782/782 [==============================] - 6s 7ms/step - loss: 1.2117 - accuracy: 0.5687 - val_loss: 1.0389 - val_accuracy: 0.6271\n",
      "Epoch 9/10\n",
      "782/782 [==============================] - 6s 7ms/step - loss: 1.1802 - accuracy: 0.5817 - val_loss: 1.0031 - val_accuracy: 0.6399\n",
      "Epoch 10/10\n",
      "782/782 [==============================] - 6s 7ms/step - loss: 1.1440 - accuracy: 0.5981 - val_loss: 0.9843 - val_accuracy: 0.6528\n"
     ]
    }
   ],
   "source": [
    "history_1 = model_1.fit(X_train, y_train,\n",
    "                        batch_size=batch_size,\n",
    "                        epochs=epochs,\n",
    "                        validation_data=(X_test, y_test))"
   ]
  },
  {
   "cell_type": "code",
   "execution_count": 12,
   "metadata": {
    "colab": {
     "base_uri": "https://localhost:8080/"
    },
    "id": "0HHv38_Q9Nf1",
    "outputId": "d1bded98-446b-4258-c999-2c6555a7bf78"
   },
   "outputs": [
    {
     "name": "stdout",
     "output_type": "stream",
     "text": [
      "1563/1563 - 5s - loss: 0.9286 - accuracy: 0.6640 - 5s/epoch - 3ms/step\n",
      "313/313 - 1s - loss: 0.9843 - accuracy: 0.6528 - 908ms/epoch - 3ms/step\n",
      "train_loss: 0.9286259412765503, train_accuracy: 0.6639800071716309\n",
      "test_loss: 0.9842723608016968, test_accuracy: 0.6528000235557556\n"
     ]
    }
   ],
   "source": [
    "train_loss, train_m = model_1.evaluate(X_train, y_train, verbose=2)\n",
    "test_loss, test_m = model_1.evaluate(X_test, y_test, verbose=2)\n",
    "print(f'train_loss: {train_loss}, train_accuracy: {train_m}')\n",
    "print(f'test_loss: {test_loss}, test_accuracy: {test_m}')\n",
    "\n",
    "step.append(1)\n",
    "desc.append('Базовая модель')\n",
    "train_acc.append(round(train_m, 2))\n",
    "test_acc.append(round(test_m, 2))"
   ]
  },
  {
   "cell_type": "code",
   "execution_count": 13,
   "metadata": {
    "colab": {
     "base_uri": "https://localhost:8080/",
     "height": 298
    },
    "id": "dKSaZTlH9_0W",
    "outputId": "c2694a10-c445-4b1f-ce66-5186aac207f5"
   },
   "outputs": [
    {
     "name": "stdout",
     "output_type": "stream",
     "text": [
      "1/1 [==============================] - 0s 177ms/step\n"
     ]
    },
    {
     "data": {
      "image/png": "[encoded data removed]",
      "text/plain": [
       "<Figure size 432x288 with 1 Axes>"
      ]
     },
     "metadata": {
      "needs_background": "light"
     },
     "output_type": "display_data"
    }
   ],
   "source": [
    "N = 5\n",
    "y_p = model_1.predict(X_test[N:N+1])\n",
    "y_t = np.argmax(y_test[N:N+1], axis = 1 )\n",
    "y_i = np.argmax(y_p, axis = 1 )\n",
    "plt.imshow(X_test[N])\n",
    "plt.title(f'это : {classes[y_t[0]]} - опознан как : {classes[y_i[0]]}')\n",
    "plt.show()"
   ]
  },
  {
   "cell_type": "code",
   "execution_count": 14,
   "metadata": {
    "colab": {
     "base_uri": "https://localhost:8080/"
    },
    "id": "R2AtStDW-SRx",
    "outputId": "4fb12da5-8ba4-40eb-a7c8-4e583dfad87a"
   },
   "outputs": [
    {
     "name": "stdout",
     "output_type": "stream",
     "text": [
      "Model: \"sequential_1\"\n",
      "_________________________________________________________________\n",
      " Layer (type)                Output Shape              Param #   \n",
      "=================================================================\n",
      " conv2d_4 (Conv2D)           (None, 32, 32, 32)        896       \n",
      "                                                                 \n",
      " activation_7 (Activation)   (None, 32, 32, 32)        0         \n",
      "                                                                 \n",
      " conv2d_5 (Conv2D)           (None, 30, 30, 64)        18496     \n",
      "                                                                 \n",
      " activation_8 (Activation)   (None, 30, 30, 64)        0         \n",
      "                                                                 \n",
      " max_pooling2d_2 (MaxPooling  (None, 15, 15, 64)       0         \n",
      " 2D)                                                             \n",
      "                                                                 \n",
      " dropout_3 (Dropout)         (None, 15, 15, 64)        0         \n",
      "                                                                 \n",
      " conv2d_6 (Conv2D)           (None, 15, 15, 128)       73856     \n",
      "                                                                 \n",
      " activation_9 (Activation)   (None, 15, 15, 128)       0         \n",
      "                                                                 \n",
      " conv2d_7 (Conv2D)           (None, 13, 13, 256)       295168    \n",
      "                                                                 \n",
      " activation_10 (Activation)  (None, 13, 13, 256)       0         \n",
      "                                                                 \n",
      " max_pooling2d_3 (MaxPooling  (None, 6, 6, 256)        0         \n",
      " 2D)                                                             \n",
      "                                                                 \n",
      " dropout_4 (Dropout)         (None, 6, 6, 256)         0         \n",
      "                                                                 \n",
      " global_average_pooling2d_1   (None, 256)              0         \n",
      " (GlobalAveragePooling2D)                                        \n",
      "                                                                 \n",
      " dense_3 (Dense)             (None, 64)                16448     \n",
      "                                                                 \n",
      " activation_11 (Activation)  (None, 64)                0         \n",
      "                                                                 \n",
      " dense_4 (Dense)             (None, 32)                2080      \n",
      "                                                                 \n",
      " activation_12 (Activation)  (None, 32)                0         \n",
      "                                                                 \n",
      " dropout_5 (Dropout)         (None, 32)                0         \n",
      "                                                                 \n",
      " dense_5 (Dense)             (None, 10)                330       \n",
      "                                                                 \n",
      " activation_13 (Activation)  (None, 10)                0         \n",
      "                                                                 \n",
      "=================================================================\n",
      "Total params: 407,274\n",
      "Trainable params: 407,274\n",
      "Non-trainable params: 0\n",
      "_________________________________________________________________\n"
     ]
    }
   ],
   "source": [
    "# конфигурирование слоев нейросети\n",
    "model_2 = Sequential()\n",
    "\n",
    "# слои нейросети отвественные за свертку и max-pooling\n",
    "model_2.add(Conv2D(32, (3, 3), padding='same', input_shape=X_train.shape[1:]))\n",
    "model_2.add(Activation('relu'))\n",
    "model_2.add(Conv2D(64, (3, 3)))\n",
    "model_2.add(Activation('relu'))\n",
    "model_2.add(MaxPooling2D(pool_size=(2, 2)))\n",
    "model_2.add(Dropout(0.25))\n",
    "\n",
    "model_2.add(Conv2D(128, (3, 3), padding='same'))\n",
    "model_2.add(Activation('relu'))\n",
    "model_2.add(Conv2D(256, (3, 3)))\n",
    "model_2.add(Activation('relu'))\n",
    "model_2.add(MaxPooling2D(pool_size=(2, 2)))\n",
    "model_2.add(Dropout(0.25))\n",
    "\n",
    "# полносвязные слои нейронной сети\n",
    "model_2.add(GlobalAveragePooling2D())\n",
    "model_2.add(Dense(64))\n",
    "model_2.add(Activation('relu'))\n",
    "model_2.add(Dense(32))\n",
    "model_2.add(Activation('relu'))\n",
    "model_2.add(Dropout(0.5))\n",
    "model_2.add(Dense(num_classes))\n",
    "model_2.add(Activation('softmax'))\n",
    "\n",
    "model_2.summary()\n",
    "# компиляция модели\n",
    "model_2.compile(loss='categorical_crossentropy',\n",
    "                optimizer='Adam',\n",
    "                metrics=['accuracy'])"
   ]
  },
  {
   "cell_type": "code",
   "execution_count": 15,
   "metadata": {
    "colab": {
     "base_uri": "https://localhost:8080/"
    },
    "id": "VecCZ2-_-g_J",
    "outputId": "205be4a6-e4ac-45ba-c460-1831eefda686"
   },
   "outputs": [
    {
     "name": "stdout",
     "output_type": "stream",
     "text": [
      "Epoch 1/10\n",
      "782/782 [==============================] - 12s 14ms/step - loss: 1.9526 - accuracy: 0.2411 - val_loss: 1.6589 - val_accuracy: 0.3634\n",
      "Epoch 2/10\n",
      "782/782 [==============================] - 10s 13ms/step - loss: 1.6272 - accuracy: 0.3854 - val_loss: 1.4216 - val_accuracy: 0.4661\n",
      "Epoch 3/10\n",
      "782/782 [==============================] - 10s 13ms/step - loss: 1.4582 - accuracy: 0.4628 - val_loss: 1.2480 - val_accuracy: 0.5395\n",
      "Epoch 4/10\n",
      "782/782 [==============================] - 10s 13ms/step - loss: 1.3423 - accuracy: 0.5159 - val_loss: 1.1410 - val_accuracy: 0.5845\n",
      "Epoch 5/10\n",
      "782/782 [==============================] - 10s 13ms/step - loss: 1.2516 - accuracy: 0.5518 - val_loss: 1.0713 - val_accuracy: 0.6103\n",
      "Epoch 6/10\n",
      "782/782 [==============================] - 10s 13ms/step - loss: 1.1731 - accuracy: 0.5864 - val_loss: 1.0187 - val_accuracy: 0.6344\n",
      "Epoch 7/10\n",
      "782/782 [==============================] - 11s 13ms/step - loss: 1.1064 - accuracy: 0.6128 - val_loss: 0.9498 - val_accuracy: 0.6596\n",
      "Epoch 8/10\n",
      "782/782 [==============================] - 11s 14ms/step - loss: 1.0496 - accuracy: 0.6357 - val_loss: 0.9060 - val_accuracy: 0.6798\n",
      "Epoch 9/10\n",
      "782/782 [==============================] - 10s 13ms/step - loss: 1.0067 - accuracy: 0.6510 - val_loss: 0.8947 - val_accuracy: 0.6826\n",
      "Epoch 10/10\n",
      "782/782 [==============================] - 10s 13ms/step - loss: 0.9681 - accuracy: 0.6650 - val_loss: 0.8668 - val_accuracy: 0.6953\n"
     ]
    }
   ],
   "source": [
    "history_2 = model_2.fit(X_train, y_train,\n",
    "                        batch_size=batch_size,\n",
    "                        epochs=epochs,\n",
    "                        validation_data=(X_test, y_test))"
   ]
  },
  {
   "cell_type": "code",
   "execution_count": 16,
   "metadata": {
    "colab": {
     "base_uri": "https://localhost:8080/"
    },
    "id": "zJeaoyyT_GnQ",
    "outputId": "a2ac9cec-2967-409c-97ab-b0a9ea86bbec"
   },
   "outputs": [
    {
     "name": "stdout",
     "output_type": "stream",
     "text": [
      "1563/1563 - 6s - loss: 0.7787 - accuracy: 0.7242 - 6s/epoch - 4ms/step\n",
      "313/313 - 1s - loss: 0.8668 - accuracy: 0.6953 - 1s/epoch - 3ms/step\n",
      "train_loss: 0.7787320017814636, train_accuracy: 0.7241799831390381\n",
      "test_loss: 0.8668431639671326, test_accuracy: 0.6952999830245972\n"
     ]
    }
   ],
   "source": [
    "train_loss, train_m = model_2.evaluate(X_train, y_train, verbose=2)\n",
    "test_loss, test_m = model_2.evaluate(X_test, y_test, verbose=2)\n",
    "print(f'train_loss: {train_loss}, train_accuracy: {train_m}')\n",
    "print(f'test_loss: {test_loss}, test_accuracy: {test_m}')\n",
    "\n",
    "step.append(2)\n",
    "desc.append('Шире - больше каналов')\n",
    "train_acc.append(round(train_m, 2))\n",
    "test_acc.append(round(test_m, 2))"
   ]
  },
  {
   "cell_type": "code",
   "execution_count": 17,
   "metadata": {
    "colab": {
     "base_uri": "https://localhost:8080/",
     "height": 298
    },
    "id": "H1c7lSwY_Jqm",
    "outputId": "f36338ce-98fa-4817-eec9-05d4f2395024"
   },
   "outputs": [
    {
     "name": "stdout",
     "output_type": "stream",
     "text": [
      "1/1 [==============================] - 0s 137ms/step\n"
     ]
    },
    {
     "data": {
      "image/png": "[encoded data removed]",
      "text/plain": [
       "<Figure size 432x288 with 1 Axes>"
      ]
     },
     "metadata": {
      "needs_background": "light"
     },
     "output_type": "display_data"
    }
   ],
   "source": [
    "N = 15\n",
    "y_p = model_2.predict(X_test[N:N+1])\n",
    "y_t = np.argmax(y_test[N:N+1], axis = 1 )\n",
    "y_i = np.argmax(y_p, axis = 1 )\n",
    "plt.imshow(X_test[N])\n",
    "plt.title(f'это : {classes[y_t[0]]} - опознан как : {classes[y_i[0]]}')\n",
    "plt.show()"
   ]
  },
  {
   "cell_type": "code",
   "execution_count": 18,
   "metadata": {
    "colab": {
     "base_uri": "https://localhost:8080/"
    },
    "id": "SexTOXRo_YxH",
    "outputId": "361de862-1490-4f0a-dc7d-aae9e0f6679e"
   },
   "outputs": [
    {
     "name": "stdout",
     "output_type": "stream",
     "text": [
      "Model: \"sequential_2\"\n",
      "_________________________________________________________________\n",
      " Layer (type)                Output Shape              Param #   \n",
      "=================================================================\n",
      " conv2d_8 (Conv2D)           (None, 32, 32, 32)        896       \n",
      "                                                                 \n",
      " activation_14 (Activation)  (None, 32, 32, 32)        0         \n",
      "                                                                 \n",
      " conv2d_9 (Conv2D)           (None, 30, 30, 32)        9248      \n",
      "                                                                 \n",
      " activation_15 (Activation)  (None, 30, 30, 32)        0         \n",
      "                                                                 \n",
      " max_pooling2d_4 (MaxPooling  (None, 15, 15, 32)       0         \n",
      " 2D)                                                             \n",
      "                                                                 \n",
      " dropout_6 (Dropout)         (None, 15, 15, 32)        0         \n",
      "                                                                 \n",
      " conv2d_10 (Conv2D)          (None, 15, 15, 64)        18496     \n",
      "                                                                 \n",
      " activation_16 (Activation)  (None, 15, 15, 64)        0         \n",
      "                                                                 \n",
      " conv2d_11 (Conv2D)          (None, 13, 13, 64)        36928     \n",
      "                                                                 \n",
      " activation_17 (Activation)  (None, 13, 13, 64)        0         \n",
      "                                                                 \n",
      " max_pooling2d_5 (MaxPooling  (None, 6, 6, 64)         0         \n",
      " 2D)                                                             \n",
      "                                                                 \n",
      " dropout_7 (Dropout)         (None, 6, 6, 64)          0         \n",
      "                                                                 \n",
      " conv2d_12 (Conv2D)          (None, 6, 6, 64)          36928     \n",
      "                                                                 \n",
      " activation_18 (Activation)  (None, 6, 6, 64)          0         \n",
      "                                                                 \n",
      " conv2d_13 (Conv2D)          (None, 4, 4, 64)          36928     \n",
      "                                                                 \n",
      " activation_19 (Activation)  (None, 4, 4, 64)          0         \n",
      "                                                                 \n",
      " max_pooling2d_6 (MaxPooling  (None, 2, 2, 64)         0         \n",
      " 2D)                                                             \n",
      "                                                                 \n",
      " dropout_8 (Dropout)         (None, 2, 2, 64)          0         \n",
      "                                                                 \n",
      " global_average_pooling2d_2   (None, 64)               0         \n",
      " (GlobalAveragePooling2D)                                        \n",
      "                                                                 \n",
      " dense_6 (Dense)             (None, 64)                4160      \n",
      "                                                                 \n",
      " activation_20 (Activation)  (None, 64)                0         \n",
      "                                                                 \n",
      " dense_7 (Dense)             (None, 32)                2080      \n",
      "                                                                 \n",
      " activation_21 (Activation)  (None, 32)                0         \n",
      "                                                                 \n",
      " dropout_9 (Dropout)         (None, 32)                0         \n",
      "                                                                 \n",
      " dense_8 (Dense)             (None, 10)                330       \n",
      "                                                                 \n",
      " activation_22 (Activation)  (None, 10)                0         \n",
      "                                                                 \n",
      "=================================================================\n",
      "Total params: 145,994\n",
      "Trainable params: 145,994\n",
      "Non-trainable params: 0\n",
      "_________________________________________________________________\n"
     ]
    }
   ],
   "source": [
    "# конфигурирование слоев нейросети\n",
    "model_3 = Sequential()\n",
    "\n",
    "# слои нейросети отвественные за свертку и max-pooling\n",
    "model_3.add(Conv2D(32, (3, 3), padding='same', input_shape=X_train.shape[1:]))\n",
    "model_3.add(Activation('relu'))\n",
    "model_3.add(Conv2D(32, (3, 3)))\n",
    "model_3.add(Activation('relu'))\n",
    "model_3.add(MaxPooling2D(pool_size=(2, 2)))\n",
    "model_3.add(Dropout(0.25))\n",
    "\n",
    "model_3.add(Conv2D(64, (3, 3), padding='same'))\n",
    "model_3.add(Activation('relu'))\n",
    "model_3.add(Conv2D(64, (3, 3)))\n",
    "model_3.add(Activation('relu'))\n",
    "model_3.add(MaxPooling2D(pool_size=(2, 2)))\n",
    "model_3.add(Dropout(0.25))\n",
    "\n",
    "model_3.add(Conv2D(64, (3, 3), padding='same'))\n",
    "model_3.add(Activation('relu'))\n",
    "model_3.add(Conv2D(64, (3, 3)))\n",
    "model_3.add(Activation('relu'))\n",
    "model_3.add(MaxPooling2D(pool_size=(2, 2)))\n",
    "model_3.add(Dropout(0.25))\n",
    "\n",
    "\n",
    "# полносвязные слои нейронной сети\n",
    "model_3.add(GlobalAveragePooling2D())\n",
    "model_3.add(Dense(64))\n",
    "model_3.add(Activation('relu'))\n",
    "model_3.add(Dense(32))\n",
    "model_3.add(Activation('relu'))\n",
    "model_3.add(Dropout(0.5))\n",
    "model_3.add(Dense(num_classes))\n",
    "model_3.add(Activation('softmax'))\n",
    "\n",
    "model_3.summary()\n",
    "# компиляция модели\n",
    "model_3.compile(loss='categorical_crossentropy',\n",
    "                optimizer='Adam',\n",
    "                metrics=['accuracy'])"
   ]
  },
  {
   "cell_type": "code",
   "execution_count": 19,
   "metadata": {
    "colab": {
     "base_uri": "https://localhost:8080/"
    },
    "id": "WuwTmLgU_mwV",
    "outputId": "de1d9e4b-6c2a-4848-a008-d5caaa146353"
   },
   "outputs": [
    {
     "name": "stdout",
     "output_type": "stream",
     "text": [
      "Epoch 1/10\n",
      "782/782 [==============================] - 8s 9ms/step - loss: 1.9704 - accuracy: 0.2335 - val_loss: 1.7035 - val_accuracy: 0.3542\n",
      "Epoch 2/10\n",
      "782/782 [==============================] - 6s 8ms/step - loss: 1.6588 - accuracy: 0.3734 - val_loss: 1.3694 - val_accuracy: 0.4834\n",
      "Epoch 3/10\n",
      "782/782 [==============================] - 6s 8ms/step - loss: 1.4503 - accuracy: 0.4718 - val_loss: 1.2565 - val_accuracy: 0.5429\n",
      "Epoch 4/10\n",
      "782/782 [==============================] - 7s 9ms/step - loss: 1.2966 - accuracy: 0.5423 - val_loss: 1.1767 - val_accuracy: 0.5733\n",
      "Epoch 5/10\n",
      "782/782 [==============================] - 6s 8ms/step - loss: 1.2044 - accuracy: 0.5832 - val_loss: 1.0323 - val_accuracy: 0.6291\n",
      "Epoch 6/10\n",
      "782/782 [==============================] - 7s 9ms/step - loss: 1.1304 - accuracy: 0.6078 - val_loss: 0.9434 - val_accuracy: 0.6726\n",
      "Epoch 7/10\n",
      "782/782 [==============================] - 6s 8ms/step - loss: 1.0666 - accuracy: 0.6344 - val_loss: 0.9049 - val_accuracy: 0.6872\n",
      "Epoch 8/10\n",
      "782/782 [==============================] - 6s 8ms/step - loss: 1.0198 - accuracy: 0.6526 - val_loss: 0.9134 - val_accuracy: 0.6876\n",
      "Epoch 9/10\n",
      "782/782 [==============================] - 6s 8ms/step - loss: 0.9675 - accuracy: 0.6732 - val_loss: 0.8403 - val_accuracy: 0.7153\n",
      "Epoch 10/10\n",
      "782/782 [==============================] - 6s 8ms/step - loss: 0.9404 - accuracy: 0.6833 - val_loss: 0.8291 - val_accuracy: 0.7204\n"
     ]
    }
   ],
   "source": [
    "history_3 = model_3.fit(X_train, y_train,\n",
    "                        batch_size=batch_size,\n",
    "                        epochs=epochs,\n",
    "                        validation_data=(X_test, y_test))     "
   ]
  },
  {
   "cell_type": "code",
   "execution_count": 20,
   "metadata": {
    "colab": {
     "base_uri": "https://localhost:8080/"
    },
    "id": "_VZGQ1jy_-i9",
    "outputId": "1f7090a0-c97d-41bf-93a7-62cf73713066"
   },
   "outputs": [
    {
     "name": "stdout",
     "output_type": "stream",
     "text": [
      "1563/1563 - 5s - loss: 0.6988 - accuracy: 0.7544 - 5s/epoch - 3ms/step\n",
      "313/313 - 1s - loss: 0.8291 - accuracy: 0.7204 - 948ms/epoch - 3ms/step\n",
      "train_loss: 0.6988332867622375, train_accuracy: 0.7544400095939636\n",
      "test_loss: 0.8291138410568237, test_accuracy: 0.7203999757766724\n"
     ]
    }
   ],
   "source": [
    "train_loss, train_m = model_3.evaluate(X_train, y_train, verbose=2)\n",
    "test_loss, test_m = model_3.evaluate(X_test, y_test, verbose=2)\n",
    "print(f'train_loss: {train_loss}, train_accuracy: {train_m}')\n",
    "print(f'test_loss: {test_loss}, test_accuracy: {test_m}')\n",
    "\n",
    "step.append(3)\n",
    "desc.append('Глубже - больше слоев')\n",
    "train_acc.append(round(train_m,2))\n",
    "test_acc.append(round(test_m,2))"
   ]
  },
  {
   "cell_type": "code",
   "execution_count": 22,
   "metadata": {
    "colab": {
     "base_uri": "https://localhost:8080/",
     "height": 298
    },
    "id": "keV3ndfOAH9s",
    "outputId": "e5572a12-9c77-4bec-fb77-b5eb57fe2481"
   },
   "outputs": [
    {
     "name": "stdout",
     "output_type": "stream",
     "text": [
      "1/1 [==============================] - 0s 150ms/step\n"
     ]
    },
    {
     "data": {
      "image/png": "[encoded data removed]",
      "text/plain": [
       "<Figure size 432x288 with 1 Axes>"
      ]
     },
     "metadata": {
      "needs_background": "light"
     },
     "output_type": "display_data"
    }
   ],
   "source": [
    "N = 20\n",
    "y_p = model_3.predict(X_test[N:N+1])\n",
    "y_t = np.argmax(y_test[N:N+1], axis = 1 )\n",
    "y_i = np.argmax(y_p, axis = 1 )\n",
    "plt.imshow(X_test[N])\n",
    "plt.title(f'это : {classes[y_t[0]]} - опознан как : {classes[y_i[0]]}')\n",
    "plt.show()"
   ]
  },
  {
   "cell_type": "markdown",
   "metadata": {
    "id": "wbUaYKLmAQMG"
   },
   "source": [
    "Полносвязная сеть для этой выборки"
   ]
  },
  {
   "cell_type": "code",
   "execution_count": 23,
   "metadata": {
    "colab": {
     "base_uri": "https://localhost:8080/"
    },
    "id": "cbwXLBKJARfc",
    "outputId": "5ce07b2e-1745-42a7-8158-26c00db2d5a4"
   },
   "outputs": [
    {
     "name": "stdout",
     "output_type": "stream",
     "text": [
      "Model: \"sequential_3\"\n",
      "_________________________________________________________________\n",
      " Layer (type)                Output Shape              Param #   \n",
      "=================================================================\n",
      " flatten (Flatten)           (None, 3072)              0         \n",
      "                                                                 \n",
      " dense_9 (Dense)             (None, 512)               1573376   \n",
      "                                                                 \n",
      " activation_23 (Activation)  (None, 512)               0         \n",
      "                                                                 \n",
      " dense_10 (Dense)            (None, 256)               131328    \n",
      "                                                                 \n",
      " activation_24 (Activation)  (None, 256)               0         \n",
      "                                                                 \n",
      " dropout_10 (Dropout)        (None, 256)               0         \n",
      "                                                                 \n",
      " dense_11 (Dense)            (None, 10)                2570      \n",
      "                                                                 \n",
      " activation_25 (Activation)  (None, 10)                0         \n",
      "                                                                 \n",
      "=================================================================\n",
      "Total params: 1,707,274\n",
      "Trainable params: 1,707,274\n",
      "Non-trainable params: 0\n",
      "_________________________________________________________________\n"
     ]
    }
   ],
   "source": [
    "# конфигурирование слоев нейросети\n",
    "model_4 = Sequential()\n",
    "\n",
    "# полносвязные слои нейронной сети\n",
    "model_4.add(Flatten(input_shape=X_train.shape[1:]))\n",
    "model_4.add(Dense(512))\n",
    "model_4.add(Activation('relu'))\n",
    "model_4.add(Dense(256))\n",
    "model_4.add(Activation('relu'))\n",
    "model_4.add(Dropout(0.5))\n",
    "model_4.add(Dense(num_classes))\n",
    "model_4.add(Activation('softmax'))\n",
    "\n",
    "model_4.summary()\n",
    "# компиляция модели\n",
    "model_4.compile(loss='categorical_crossentropy',\n",
    "                optimizer='Adam',\n",
    "                metrics=['accuracy'])"
   ]
  },
  {
   "cell_type": "code",
   "execution_count": 24,
   "metadata": {
    "colab": {
     "base_uri": "https://localhost:8080/"
    },
    "id": "uxstvx9vAb-s",
    "outputId": "7a390f98-f27b-4480-eda4-3cd7e784e804"
   },
   "outputs": [
    {
     "name": "stdout",
     "output_type": "stream",
     "text": [
      "Epoch 1/10\n",
      "782/782 [==============================] - 4s 5ms/step - loss: 1.9835 - accuracy: 0.2781 - val_loss: 1.7610 - val_accuracy: 0.3607\n",
      "Epoch 2/10\n",
      "782/782 [==============================] - 3s 4ms/step - loss: 1.7760 - accuracy: 0.3607 - val_loss: 1.6616 - val_accuracy: 0.4073\n",
      "Epoch 3/10\n",
      "782/782 [==============================] - 4s 5ms/step - loss: 1.7113 - accuracy: 0.3875 - val_loss: 1.6030 - val_accuracy: 0.4311\n",
      "Epoch 4/10\n",
      "782/782 [==============================] - 3s 4ms/step - loss: 1.6433 - accuracy: 0.4110 - val_loss: 1.6110 - val_accuracy: 0.4244\n",
      "Epoch 5/10\n",
      "782/782 [==============================] - 3s 4ms/step - loss: 1.6143 - accuracy: 0.4250 - val_loss: 1.5496 - val_accuracy: 0.4420\n",
      "Epoch 6/10\n",
      "782/782 [==============================] - 3s 4ms/step - loss: 1.5909 - accuracy: 0.4336 - val_loss: 1.5516 - val_accuracy: 0.4527\n",
      "Epoch 7/10\n",
      "782/782 [==============================] - 3s 4ms/step - loss: 1.5712 - accuracy: 0.4404 - val_loss: 1.5222 - val_accuracy: 0.4555\n",
      "Epoch 8/10\n",
      "782/782 [==============================] - 3s 4ms/step - loss: 1.5488 - accuracy: 0.4490 - val_loss: 1.5403 - val_accuracy: 0.4540\n",
      "Epoch 9/10\n",
      "782/782 [==============================] - 3s 4ms/step - loss: 1.5375 - accuracy: 0.4527 - val_loss: 1.5064 - val_accuracy: 0.4673\n",
      "Epoch 10/10\n",
      "782/782 [==============================] - 3s 4ms/step - loss: 1.5174 - accuracy: 0.4585 - val_loss: 1.4949 - val_accuracy: 0.4709\n"
     ]
    }
   ],
   "source": [
    "history_4 = model_4.fit(X_train, y_train,\n",
    "                        batch_size=batch_size,\n",
    "                        epochs=epochs,\n",
    "                        validation_data=(X_test, y_test))"
   ]
  },
  {
   "cell_type": "code",
   "execution_count": 25,
   "metadata": {
    "colab": {
     "base_uri": "https://localhost:8080/"
    },
    "id": "6YVCkfEWAnWk",
    "outputId": "e4cba60f-6c8f-40bb-a8a2-f39195bbc496"
   },
   "outputs": [
    {
     "name": "stdout",
     "output_type": "stream",
     "text": [
      "1563/1563 - 3s - loss: 1.4314 - accuracy: 0.4856 - 3s/epoch - 2ms/step\n",
      "313/313 - 1s - loss: 1.4949 - accuracy: 0.4709 - 672ms/epoch - 2ms/step\n",
      "train_loss: 1.4314383268356323, train_accuracy: 0.4856399893760681\n",
      "test_loss: 1.4949039220809937, test_accuracy: 0.4708999991416931\n"
     ]
    }
   ],
   "source": [
    "train_loss, train_m = model_4.evaluate(X_train, y_train, verbose=2)\n",
    "test_loss, test_m = model_4.evaluate(X_test, y_test, verbose=2)\n",
    "print(f'train_loss: {train_loss}, train_accuracy: {train_m}')\n",
    "print(f'test_loss: {test_loss}, test_accuracy: {test_m}')\n",
    "\n",
    "step.append(4)\n",
    "desc.append('Полносвязная сеть')\n",
    "train_acc.append(round(train_m,2))\n",
    "test_acc.append(round(test_m,2))"
   ]
  },
  {
   "cell_type": "code",
   "execution_count": 26,
   "metadata": {
    "colab": {
     "base_uri": "https://localhost:8080/",
     "height": 298
    },
    "id": "DPjpVOu0AqqL",
    "outputId": "1b9fc4f6-57aa-4769-a7a3-b0934b41a4d9"
   },
   "outputs": [
    {
     "name": "stdout",
     "output_type": "stream",
     "text": [
      "1/1 [==============================] - 0s 48ms/step\n"
     ]
    },
    {
     "data": {
      "image/png": "[encoded data removed]",
      "text/plain": [
       "<Figure size 432x288 with 1 Axes>"
      ]
     },
     "metadata": {
      "needs_background": "light"
     },
     "output_type": "display_data"
    }
   ],
   "source": [
    "N = 25\n",
    "y_p = model_4.predict(X_test[N:N+1])\n",
    "y_t = np.argmax(y_test[N:N+1], axis = 1 )\n",
    "y_i = np.argmax(y_p, axis = 1 )\n",
    "plt.imshow(X_test[N])\n",
    "plt.title(f'это : {classes[y_t[0]]} - опознан как : {classes[y_i[0]]}')\n",
    "plt.show()"
   ]
  },
  {
   "cell_type": "code",
   "execution_count": 27,
   "metadata": {
    "colab": {
     "base_uri": "https://localhost:8080/",
     "height": 175
    },
    "id": "yB4ivP8MAvwq",
    "outputId": "f1895184-22b8-48cd-fd8d-837ac2302161"
   },
   "outputs": [
    {
     "data": {
      "text/html": [
       "\n",
       "  <div id=\"df-7b769efb-753c-4224-afc1-acb6e2b01351\">\n",
       "    <div class=\"colab-df-container\">\n",
       "      <div>\n",
       "<style scoped>\n",
       "    .dataframe tbody tr th:only-of-type {\n",
       "        vertical-align: middle;\n",
       "    }\n",
       "\n",
       "    .dataframe tbody tr th {\n",
       "        vertical-align: top;\n",
       "    }\n",
       "\n",
       "    .dataframe thead th {\n",
       "        text-align: right;\n",
       "    }\n",
       "</style>\n",
       "<table border=\"1\" class=\"dataframe\">\n",
       "  <thead>\n",
       "    <tr style=\"text-align: right;\">\n",
       "      <th></th>\n",
       "      <th>step</th>\n",
       "      <th>desc</th>\n",
       "      <th>train_acc</th>\n",
       "      <th>test_acc</th>\n",
       "    </tr>\n",
       "  </thead>\n",
       "  <tbody>\n",
       "    <tr>\n",
       "      <th>0</th>\n",
       "      <td>1</td>\n",
       "      <td>Базовая модель</td>\n",
       "      <td>0.66</td>\n",
       "      <td>0.65</td>\n",
       "    </tr>\n",
       "    <tr>\n",
       "      <th>1</th>\n",
       "      <td>2</td>\n",
       "      <td>Шире - больше каналов</td>\n",
       "      <td>0.72</td>\n",
       "      <td>0.70</td>\n",
       "    </tr>\n",
       "    <tr>\n",
       "      <th>2</th>\n",
       "      <td>3</td>\n",
       "      <td>Глубже - больше слоев</td>\n",
       "      <td>0.75</td>\n",
       "      <td>0.72</td>\n",
       "    </tr>\n",
       "    <tr>\n",
       "      <th>3</th>\n",
       "      <td>4</td>\n",
       "      <td>Полносвязная сеть</td>\n",
       "      <td>0.49</td>\n",
       "      <td>0.47</td>\n",
       "    </tr>\n",
       "  </tbody>\n",
       "</table>\n",
       "</div>\n",
       "      <button class=\"colab-df-convert\" onclick=\"convertToInteractive('df-7b769efb-753c-4224-afc1-acb6e2b01351')\"\n",
       "              title=\"Convert this dataframe to an interactive table.\"\n",
       "              style=\"display:none;\">\n",
       "        \n",
       "  <svg xmlns=\"http://www.w3.org/2000/svg\" height=\"24px\"viewBox=\"0 0 24 24\"\n",
       "       width=\"24px\">\n",
       "    <path d=\"M0 0h24v24H0V0z\" fill=\"none\"/>\n",
       "    <path d=\"M18.56 5.44l.94 2.06.94-2.06 2.06-.94-2.06-.94-.94-2.06-.94 2.06-2.06.94zm-11 1L8.5 8.5l.94-2.06 2.06-.94-2.06-.94L8.5 2.5l-.94 2.06-2.06.94zm10 10l.94 2.06.94-2.06 2.06-.94-2.06-.94-.94-2.06-.94 2.06-2.06.94z\"/><path d=\"M17.41 7.96l-1.37-1.37c-.4-.4-.92-.59-1.43-.59-.52 0-1.04.2-1.43.59L10.3 9.45l-7.72 7.72c-.78.78-.78 2.05 0 2.83L4 21.41c.39.39.9.59 1.41.59.51 0 1.02-.2 1.41-.59l7.78-7.78 2.81-2.81c.8-.78.8-2.07 0-2.86zM5.41 20L4 18.59l7.72-7.72 1.47 1.35L5.41 20z\"/>\n",
       "  </svg>\n",
       "      </button>\n",
       "      \n",
       "  <style>\n",
       "    .colab-df-container {\n",
       "      display:flex;\n",
       "      flex-wrap:wrap;\n",
       "      gap: 12px;\n",
       "    }\n",
       "\n",
       "    .colab-df-convert {\n",
       "      background-color: #E8F0FE;\n",
       "      border: none;\n",
       "      border-radius: 50%;\n",
       "      cursor: pointer;\n",
       "      display: none;\n",
       "      fill: #1967D2;\n",
       "      height: 32px;\n",
       "      padding: 0 0 0 0;\n",
       "      width: 32px;\n",
       "    }\n",
       "\n",
       "    .colab-df-convert:hover {\n",
       "      background-color: #E2EBFA;\n",
       "      box-shadow: 0px 1px 2px rgba(60, 64, 67, 0.3), 0px 1px 3px 1px rgba(60, 64, 67, 0.15);\n",
       "      fill: #174EA6;\n",
       "    }\n",
       "\n",
       "    [theme=dark] .colab-df-convert {\n",
       "      background-color: #3B4455;\n",
       "      fill: #D2E3FC;\n",
       "    }\n",
       "\n",
       "    [theme=dark] .colab-df-convert:hover {\n",
       "      background-color: #434B5C;\n",
       "      box-shadow: 0px 1px 3px 1px rgba(0, 0, 0, 0.15);\n",
       "      filter: drop-shadow(0px 1px 2px rgba(0, 0, 0, 0.3));\n",
       "      fill: #FFFFFF;\n",
       "    }\n",
       "  </style>\n",
       "\n",
       "      <script>\n",
       "        const buttonEl =\n",
       "          document.querySelector('#df-7b769efb-753c-4224-afc1-acb6e2b01351 button.colab-df-convert');\n",
       "        buttonEl.style.display =\n",
       "          google.colab.kernel.accessAllowed ? 'block' : 'none';\n",
       "\n",
       "        async function convertToInteractive(key) {\n",
       "          const element = document.querySelector('#df-7b769efb-753c-4224-afc1-acb6e2b01351');\n",
       "          const dataTable =\n",
       "            await google.colab.kernel.invokeFunction('convertToInteractive',\n",
       "                                                     [key], {});\n",
       "          if (!dataTable) return;\n",
       "\n",
       "          const docLinkHtml = 'Like what you see? Visit the ' +\n",
       "            '<a target=\"_blank\" href=https://colab.research.google.com/notebooks/data_table.ipynb>data table notebook</a>'\n",
       "            + ' to learn more about interactive tables.';\n",
       "          element.innerHTML = '';\n",
       "          dataTable['output_type'] = 'display_data';\n",
       "          await google.colab.output.renderOutput(dataTable, element);\n",
       "          const docLink = document.createElement('div');\n",
       "          docLink.innerHTML = docLinkHtml;\n",
       "          element.appendChild(docLink);\n",
       "        }\n",
       "      </script>\n",
       "    </div>\n",
       "  </div>\n",
       "  "
      ],
      "text/plain": [
       "   step                   desc  train_acc  test_acc\n",
       "0     1         Базовая модель       0.66      0.65\n",
       "1     2  Шире - больше каналов       0.72      0.70\n",
       "2     3  Глубже - больше слоев       0.75      0.72\n",
       "3     4      Полносвязная сеть       0.49      0.47"
      ]
     },
     "execution_count": 27,
     "metadata": {},
     "output_type": "execute_result"
    }
   ],
   "source": [
    "results['step'] = step\n",
    "results['desc'] = desc\n",
    "results['train_acc'] = train_acc\n",
    "results['test_acc'] = test_acc\n",
    "results"
   ]
  },
  {
   "cell_type": "markdown",
   "metadata": {
    "id": "DcB2IYczA5By"
   },
   "source": [
    "### Выводы:<br>\n",
    "Базовая модель показала результаты: 0.66\t0.65 (трейн/тест)\n",
    "\n",
    "Увеличение количества каналов дало улучшение результатов до 0.72\t0.70 (трейн/тест)\n",
    "\n",
    "Увеличение числа слоев дало лучшее увеличение точности 0.75\t0.72 (трейн/тест)\n",
    "\n",
    "Полносвязная сеть дала результат хуже базовой модели 0.49\t0.47 (трейн/тест)"
   ]
  }
 ],
 "metadata": {
  "accelerator": "GPU",
  "colab": {
   "authorship_tag": "ABX9TyM5bFP+gMITjCm/S6N4EtXw",
   "collapsed_sections": [],
   "include_colab_link": true,
   "provenance": []
  },
  "gpuClass": "standard",
  "kernelspec": {
   "display_name": "Python 3 (ipykernel)",
   "language": "python",
   "name": "python3"
  },
  "language_info": {
   "codemirror_mode": {
    "name": "ipython",
    "version": 3
   },
   "file_extension": ".py",
   "mimetype": "text/x-python",
   "name": "python",
   "nbconvert_exporter": "python",
   "pygments_lexer": "ipython3",
   "version": "3.9.7"
  }
 },
 "nbformat": 4,
 "nbformat_minor": 1
}
